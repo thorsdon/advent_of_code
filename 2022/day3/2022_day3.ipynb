{
 "cells": [
  {
   "cell_type": "code",
   "execution_count": 1,
   "metadata": {},
   "outputs": [],
   "source": [
    "with open(\"input_day3_example.txt\") as file:\n",
    "    rucksack = [line.strip() for line in file]"
   ]
  },
  {
   "cell_type": "code",
   "execution_count": 2,
   "metadata": {},
   "outputs": [
    {
     "name": "stdout",
     "output_type": "stream",
     "text": [
      "['vJrwpWtwJgWrhcsFMMfFFhFp', 'jqHRNqRjqzjGDLGLrsFMfFZSrLrFZsSL', 'PmmdzqPrVvPwwTWBwg', 'wMqvLMZHhHMvwLHjbvcjnnSBnvTQFn', 'ttgJtRGJQctTZtZT', 'CrZsJsPPZsGzwwsLwLmpwMDw']\n"
     ]
    }
   ],
   "source": [
    "print(rucksack)"
   ]
  },
  {
   "cell_type": "code",
   "execution_count": 3,
   "metadata": {},
   "outputs": [],
   "source": [
    "first_compartment_list = []\n",
    "second_compartment_list = []\n",
    "for contents in rucksack:\n",
    "    lenght = len(contents)\n",
    "    midpoint = lenght // 2\n",
    "    \n",
    "    first_compartment = contents[:midpoint]\n",
    "    second_compartment = contents[midpoint:]\n",
    "\n",
    "    first_compartment_list.append(first_compartment)\n",
    "    second_compartment_list.append(second_compartment)\n"
   ]
  },
  {
   "cell_type": "code",
   "execution_count": 4,
   "metadata": {},
   "outputs": [],
   "source": [
    "common_items_list = []\n",
    "# Nested loop to compare characters between strings in both lists\n",
    "for str1, str2 in zip(first_compartment_list, second_compartment_list):\n",
    "    common_items = []\n",
    "    \n",
    "    for char1 in str1:\n",
    "        if char1 in str2 and char1 not in common_items:\n",
    "            common_items.append(char1)\n",
    "    \n",
    "    common_items_list.append(common_items)"
   ]
  },
  {
   "cell_type": "code",
   "execution_count": 5,
   "metadata": {},
   "outputs": [
    {
     "name": "stdout",
     "output_type": "stream",
     "text": [
      "[['p'], ['L'], ['P'], ['v'], ['t'], ['s']]\n"
     ]
    }
   ],
   "source": [
    "print(common_items_list)"
   ]
  },
  {
   "cell_type": "code",
   "execution_count": 6,
   "metadata": {},
   "outputs": [],
   "source": [
    "import string\n",
    "\n",
    "alphabet_lowercase_range = list(string.ascii_lowercase)\n",
    "alphabet_uppercase_range = list(string.ascii_uppercase)\n",
    "value_lowercase_range = list(range(1,27))\n",
    "value_uppercase_range = list(range(27,53))"
   ]
  },
  {
   "cell_type": "code",
   "execution_count": 7,
   "metadata": {},
   "outputs": [
    {
     "name": "stdout",
     "output_type": "stream",
     "text": [
      "{'a': 1, 'A': 27, 'b': 2, 'B': 28, 'c': 3, 'C': 29, 'd': 4, 'D': 30, 'e': 5, 'E': 31, 'f': 6, 'F': 32, 'g': 7, 'G': 33, 'h': 8, 'H': 34, 'i': 9, 'I': 35, 'j': 10, 'J': 36, 'k': 11, 'K': 37, 'l': 12, 'L': 38, 'm': 13, 'M': 39, 'n': 14, 'N': 40, 'o': 15, 'O': 41, 'p': 16, 'P': 42, 'q': 17, 'Q': 43, 'r': 18, 'R': 44, 's': 19, 'S': 45, 't': 20, 'T': 46, 'u': 21, 'U': 47, 'v': 22, 'V': 48, 'w': 23, 'W': 49, 'x': 24, 'X': 50, 'y': 25, 'Y': 51, 'z': 26, 'Z': 52}\n"
     ]
    }
   ],
   "source": [
    "combined_dict = {}\n",
    "\n",
    "for key1, value1, key2, value2 in zip(alphabet_lowercase_range, value_lowercase_range, alphabet_uppercase_range, value_uppercase_range):\n",
    "    combined_dict[key1] = value1\n",
    "    combined_dict[key2] = value2\n",
    "\n",
    "print (combined_dict)"
   ]
  },
  {
   "cell_type": "code",
   "execution_count": 8,
   "metadata": {},
   "outputs": [
    {
     "name": "stdout",
     "output_type": "stream",
     "text": [
      "[16, 38, 42, 22, 20, 19]\n"
     ]
    }
   ],
   "source": [
    "# Initialize an empty list to store the sums\n",
    "sums_list = []\n",
    "\n",
    "# Iterate through the outer list\n",
    "for inner_list in common_items_list:\n",
    "    inner_sum = 0  # Initialize a sum for the current inner list\n",
    "    \n",
    "    # Iterate through the characters in the inner list\n",
    "    for char in inner_list:\n",
    "        if char in combined_dict:\n",
    "            inner_sum += combined_dict[char]  # Look up and add the value\n",
    "        \n",
    "    sums_list.append(inner_sum)  # Append the sum to the sums_list\n",
    "\n",
    "# Print the list of sums\n",
    "print(sums_list)\n"
   ]
  },
  {
   "cell_type": "code",
   "execution_count": 9,
   "metadata": {},
   "outputs": [
    {
     "name": "stdout",
     "output_type": "stream",
     "text": [
      "157\n"
     ]
    }
   ],
   "source": [
    "priorities_sum = sum(sums_list)\n",
    "\n",
    "print(priorities_sum)"
   ]
  },
  {
   "cell_type": "code",
   "execution_count": 20,
   "metadata": {},
   "outputs": [
    {
     "name": "stdout",
     "output_type": "stream",
     "text": [
      "Group 1: {'r'}\n",
      "Group 2: {'Z'}\n"
     ]
    }
   ],
   "source": [
    "# Initialize a list to store common characters in each group\n",
    "common_characterselves_list = []\n",
    "\n",
    "# Iterate through the list in groups of three\n",
    "for i in range(0, len(rucksack), 3):\n",
    "    group = rucksack[i:i+3]  # Get a group of three strings\n",
    "    \n",
    "    # Use set intersection to find common characters in the group\n",
    "    common_characterselves = set(group[0]) & set(group[1]) & set(group[2])\n",
    "\n",
    "    common_characterselves_list.append((common_characterselves))\n",
    "\n",
    "# Print the list of common characters for each group\n",
    "for idx, common_chars in enumerate(common_characterselves_list, start=1):\n",
    "    print(f\"Group {idx}: {common_chars}\")"
   ]
  },
  {
   "cell_type": "code",
   "execution_count": 21,
   "metadata": {},
   "outputs": [
    {
     "ename": "AttributeError",
     "evalue": "'set' object has no attribute 'strip'",
     "output_type": "error",
     "traceback": [
      "\u001b[0;31m---------------------------------------------------------------------------\u001b[0m",
      "\u001b[0;31mAttributeError\u001b[0m                            Traceback (most recent call last)",
      "\u001b[1;32m/Users/nouddonders/Documents/python/Advent_Of_Code/2022_day3.ipynb Cell 11\u001b[0m line \u001b[0;36m3\n\u001b[1;32m      <a href='vscode-notebook-cell:/Users/nouddonders/Documents/python/Advent_Of_Code/2022_day3.ipynb#X24sZmlsZQ%3D%3D?line=0'>1</a>\u001b[0m sumofbadgepriorities \u001b[39m=\u001b[39m \u001b[39m0\u001b[39m\n\u001b[0;32m----> <a href='vscode-notebook-cell:/Users/nouddonders/Documents/python/Advent_Of_Code/2022_day3.ipynb#X24sZmlsZQ%3D%3D?line=2'>3</a>\u001b[0m cleaned_list \u001b[39m=\u001b[39m [value\u001b[39m.\u001b[39;49mstrip(\u001b[39m'\u001b[39m\u001b[39m{}\u001b[39;00m\u001b[39m'\u001b[39m) \u001b[39mfor\u001b[39;00m value \u001b[39min\u001b[39;00m common_characterselves_list]\n\u001b[1;32m      <a href='vscode-notebook-cell:/Users/nouddonders/Documents/python/Advent_Of_Code/2022_day3.ipynb#X24sZmlsZQ%3D%3D?line=3'>4</a>\u001b[0m \u001b[39mfor\u001b[39;00m commonchar \u001b[39min\u001b[39;00m cleaned_list:\n\u001b[1;32m      <a href='vscode-notebook-cell:/Users/nouddonders/Documents/python/Advent_Of_Code/2022_day3.ipynb#X24sZmlsZQ%3D%3D?line=4'>5</a>\u001b[0m     sumofbadgepriorities \u001b[39m+\u001b[39m\u001b[39m=\u001b[39m combined_dict[commonchar]\n",
      "\u001b[0;31mAttributeError\u001b[0m: 'set' object has no attribute 'strip'"
     ]
    }
   ],
   "source": [
    "sumofbadgepriorities = 0\n",
    "cleaned_list = [value.strip('{}') for value in common_characterselves_list]\n",
    "for commonchar in cleaned_list:\n",
    "    sumofbadgepriorities += combined_dict[commonchar]\n",
    "\n",
    "print (sumofbadgepriorities)"
   ]
  }
 ],
 "metadata": {
  "kernelspec": {
   "display_name": "Python 3",
   "language": "python",
   "name": "python3"
  },
  "language_info": {
   "codemirror_mode": {
    "name": "ipython",
    "version": 3
   },
   "file_extension": ".py",
   "mimetype": "text/x-python",
   "name": "python",
   "nbconvert_exporter": "python",
   "pygments_lexer": "ipython3",
   "version": "3.12.0"
  }
 },
 "nbformat": 4,
 "nbformat_minor": 2
}
