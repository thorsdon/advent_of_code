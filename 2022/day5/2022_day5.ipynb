{
 "cells": [
  {
   "cell_type": "code",
   "execution_count": null,
   "metadata": {},
   "outputs": [],
   "source": []
  },
  {
   "cell_type": "code",
   "execution_count": 3,
   "metadata": {},
   "outputs": [
    {
     "name": "stdout",
     "output_type": "stream",
     "text": [
      "Character at position 1 in line: ' '\n",
      "Character at position 5 in line: 'D'\n",
      "Character at position 9 in line: ' '\n",
      "Character at position 1 in line: 'N'\n",
      "Character at position 5 in line: 'C'\n",
      "Character at position 9 in line: ' '\n",
      "Character at position 1 in line: 'Z'\n",
      "Character at position 5 in line: 'M'\n",
      "Character at position 9 in line: 'P'\n",
      "Character at position 1 in line: '1'\n",
      "Character at position 5 in line: '2'\n",
      "Character at position 9 in line: '3'\n"
     ]
    }
   ],
   "source": [
    "n = 1  # Starting position (assuming first character is position 0)\n",
    "increment = 4  # Increment for each repetition\n",
    "repeats = 3  # Number of times to repeat the process\n",
    "with open(\"input_day5-stacks_example.txt\", 'r') as file:\n",
    "    for line in file:\n",
    "        position = n\n",
    "        for _ in range(repeats):\n",
    "            if position < len(line):\n",
    "                character = line[position]\n",
    "                print(f\"Character at position {position} in line: '{character}'\")\n",
    "            else:\n",
    "                print(f\"No character at position {position} in line.\")\n",
    "            position += increment"
   ]
  },
  {
   "cell_type": "code",
   "execution_count": 4,
   "metadata": {},
   "outputs": [
    {
     "name": "stdout",
     "output_type": "stream",
     "text": [
      "List for repeat 0: [' ', 'N', 'Z', '1']\n",
      "List for repeat 1: ['D', 'C', 'M', '2']\n",
      "List for repeat 2: [' ', ' ', 'P', '3']\n"
     ]
    }
   ],
   "source": [
    "n = 1  # Starting position (assuming first character is position 0)\n",
    "increment = 4  # Increment for each repetition\n",
    "repeats = 3  # Number of times to repeat the process\n",
    "\n",
    "# Initialize a list of lists for the characters\n",
    "character_lists = [[] for _ in range(repeats)]\n",
    "\n",
    "with open(\"input_day5-stacks_example.txt\", 'r') as file:\n",
    "    for line in file:\n",
    "        position = n\n",
    "        for i in range(repeats):\n",
    "            if position < len(line):\n",
    "                character = line[position]\n",
    "                character_lists[i].append(character)\n",
    "            else:\n",
    "                # Append None or some placeholder if the position doesn't exist\n",
    "                character_lists[i].append(None)\n",
    "            position += increment\n",
    "\n",
    "# Display the result\n",
    "for i, lst in enumerate(character_lists):\n",
    "    print(f\"List for repeat {i}: {lst}\")\n"
   ]
  },
  {
   "cell_type": "code",
   "execution_count": 7,
   "metadata": {},
   "outputs": [
    {
     "name": "stdout",
     "output_type": "stream",
     "text": [
      "Stack of crates 1: ['N', 'Z']\n",
      "Stack of crates 2: ['D', 'C', 'M']\n",
      "Stack of crates 3: ['P']\n"
     ]
    }
   ],
   "source": [
    "n = 1  # Starting position (assuming first character is position 0)\n",
    "increment = 4  # Increment for each repetition\n",
    "repeats = 3  # Number of times to repeat the process\n",
    "\n",
    "# Initialize a list of lists for the characters\n",
    "character_lists = [[] for _ in range(repeats)]\n",
    "\n",
    "with open(\"input_day5-stacks_example.txt\", 'r') as file:\n",
    "    for line in file:\n",
    "        position = n\n",
    "        for i in range(repeats):\n",
    "            if position < len(line):\n",
    "                character = line[position]\n",
    "                # Check if the character is not a space and not a digit\n",
    "                if not character.isspace() and not character.isdigit():\n",
    "                    character_lists[i].append(character)\n",
    "            position += increment\n",
    "\n",
    "# Display the result\n",
    "for i, lst in enumerate(character_lists):\n",
    "    print(f\"Stack of crates {i+1}: {lst}\")\n"
   ]
  },
  {
   "cell_type": "code",
   "execution_count": 11,
   "metadata": {},
   "outputs": [
    {
     "name": "stdout",
     "output_type": "stream",
     "text": [
      "[['N', 'Z'], ['D', 'C', 'M'], ['P']]\n"
     ]
    }
   ],
   "source": [
    "reversed(character_lists)\n",
    "print (character_lists)"
   ]
  }
 ],
 "metadata": {
  "kernelspec": {
   "display_name": "Python 3",
   "language": "python",
   "name": "python3"
  },
  "language_info": {
   "codemirror_mode": {
    "name": "ipython",
    "version": 3
   },
   "file_extension": ".py",
   "mimetype": "text/x-python",
   "name": "python",
   "nbconvert_exporter": "python",
   "pygments_lexer": "ipython3",
   "version": "3.12.0"
  }
 },
 "nbformat": 4,
 "nbformat_minor": 2
}
