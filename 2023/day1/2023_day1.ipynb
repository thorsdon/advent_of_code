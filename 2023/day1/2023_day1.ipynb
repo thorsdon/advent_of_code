{
 "cells": [
  {
   "cell_type": "code",
   "execution_count": 13,
   "metadata": {},
   "outputs": [
    {
     "name": "stdout",
     "output_type": "stream",
     "text": [
      "54390\n"
     ]
    }
   ],
   "source": [
    "import re\n",
    "\n",
    "sumofnumbers = 0\n",
    "\n",
    "with open(\"2023_day1_input.txt\", \"r\") as f:\n",
    "    for line in f:\n",
    "        numbers = re.findall(r'\\d',line)\n",
    "        firstnr = numbers[0]\n",
    "        lastnr = numbers [-1]\n",
    "        combinednr = int(firstnr + lastnr)\n",
    "        sumofnumbers += combinednr\n",
    "    print(sumofnumbers)\n",
    "\n"
   ]
  },
  {
   "cell_type": "code",
   "execution_count": 18,
   "metadata": {},
   "outputs": [
    {
     "name": "stdout",
     "output_type": "stream",
     "text": [
      "[[('1', 3)], [], [('2', 6)], [('3', 6)], [('4', 0), ('2', 15)], [('2', 8), ('3', 9), ('4', 10)], [('7', 0)]]\n"
     ]
    }
   ],
   "source": [
    "digit_positions = []\n",
    "\n",
    "with open(\"2023_day1_input_example2.txt\", \"r\") as f:\n",
    "    for line in f:\n",
    "        line_digits = []  # Een nieuwe lijst voor de huidige regel\n",
    "        for index, char in enumerate(line):\n",
    "            if char.isdigit():\n",
    "                line_digits.append((char, index))  # Voeg tuple toe aan de lijst van de huidige regel\n",
    "        digit_positions.append(line_digits) # Voeg lijst met tuples toe aan de digit_position lijst\n",
    "        \n",
    "    print(digit_positions)"
   ]
  },
  {
   "cell_type": "code",
   "execution_count": 22,
   "metadata": {},
   "outputs": [
    {
     "name": "stdout",
     "output_type": "stream",
     "text": [
      "[[('2', 0), ('9', 4)], [('2', 4), ('3', 7), ('8', 0)], [('1', 3), ('3', 7)], [('1', 3), ('2', 1), ('4', 7)], [('7', 10), ('8', 5), ('9', 1)], [('1', 1), ('8', 3)], [('6', 6)]]\n"
     ]
    }
   ],
   "source": [
    "digit_positions = []\n",
    "spelled_to_digit = {\n",
    "        'one': '1', 'two': '2', 'three': '3', 'four': '4',\n",
    "        'five': '5', 'six': '6', 'seven': '7', 'eight': '8', 'nine': '9'\n",
    "    }\n",
    "\n",
    "with open(\"2023_day1_input_example2.txt\", \"r\") as f:\n",
    "    for line in f:\n",
    "        line_digits = []  # Een nieuwe lijst voor de huidige regel\n",
    "        for word, digit in spelled_to_digit.items():\n",
    "            for match in re.finditer(r'{}'.format(word), line):\n",
    "                line_digits.append((spelled_to_digit[word], match.start()))  # Voeg tuple toe aan de lijst van de huidige regel\n",
    "        digit_positions.append(line_digits) # Voeg lijst met tuples toe aan de digit_position lijst\n",
    "        \n",
    "    print(digit_positions)"
   ]
  },
  {
   "cell_type": "code",
   "execution_count": 23,
   "metadata": {},
   "outputs": [
    {
     "name": "stdout",
     "output_type": "stream",
     "text": [
      "[[('2', 0), ('9', 4), ('1', 3)], [('2', 4), ('3', 7), ('8', 0)], [('1', 3), ('3', 7), ('2', 6)], [('1', 3), ('2', 1), ('4', 7), ('3', 6)], [('7', 10), ('8', 5), ('9', 1), ('4', 0), ('2', 15)], [('1', 1), ('8', 3), ('2', 8), ('3', 9), ('4', 10)], [('6', 6), ('7', 0)]]\n"
     ]
    }
   ],
   "source": [
    "digit_positions = []\n",
    "spelled_to_digit = {\n",
    "        'one': '1', 'two': '2', 'three': '3', 'four': '4',\n",
    "        'five': '5', 'six': '6', 'seven': '7', 'eight': '8', 'nine': '9'\n",
    "    }\n",
    "\n",
    "with open(\"2023_day1_input_example2.txt\", \"r\") as f:\n",
    "    for line in f:\n",
    "        line_digits = []  # Een nieuwe lijst voor de huidige regel\n",
    "        for word, digit in spelled_to_digit.items():\n",
    "            for match in re.finditer(r'{}'.format(word), line):\n",
    "                line_digits.append((spelled_to_digit[word], match.start()))  # Voeg tuple toe aan de lijst van de huidige regel\n",
    "        for index, char in enumerate(line):\n",
    "            if char.isdigit():\n",
    "                line_digits.append((char, index))  # Voeg tuple toe aan de lijst van de huidige regel\n",
    "        digit_positions.append(line_digits) # Voeg lijst met tuples toe aan de digit_position lijst\n",
    "        \n",
    "    print(digit_positions)"
   ]
  },
  {
   "cell_type": "code",
   "execution_count": 28,
   "metadata": {},
   "outputs": [
    {
     "name": "stdout",
     "output_type": "stream",
     "text": [
      "29\n",
      "83\n",
      "13\n",
      "24\n",
      "42\n",
      "14\n",
      "76\n",
      "281\n"
     ]
    }
   ],
   "source": [
    "# Function to get the second element of a tuple\n",
    "def get_second_element(tuple):\n",
    "    return tuple[1]\n",
    "\n",
    "# Iterate through each list in digit_positions\n",
    "sumofnumbers2 = 0\n",
    "combined_numbers = []\n",
    "for line_digits in digit_positions:\n",
    "\n",
    "    # Find the tuples with the lowest and highest second values\n",
    "    lowest = min(line_digits, key=get_second_element)\n",
    "    highest = max(line_digits, key=get_second_element)\n",
    "\n",
    "    # Combine the first values of these tuples into a two-digit number\n",
    "    combined_number = int(lowest[0] + highest[0])\n",
    "    sumofnumbers2 += combined_number\n",
    "    print (combined_number)\n",
    "print (sumofnumbers2)\n"
   ]
  },
  {
   "cell_type": "code",
   "execution_count": 30,
   "metadata": {},
   "outputs": [
    {
     "name": "stdout",
     "output_type": "stream",
     "text": [
      "54277\n"
     ]
    }
   ],
   "source": [
    "#final combined code for puzzle day 1 part two\n",
    "\n",
    "digit_positions = []\n",
    "spelled_to_digit = {\n",
    "        'one': '1', 'two': '2', 'three': '3', 'four': '4',\n",
    "        'five': '5', 'six': '6', 'seven': '7', 'eight': '8', 'nine': '9'\n",
    "    }\n",
    "\n",
    "with open(\"2023_day1_input.txt\", \"r\") as f:\n",
    "    for line in f:\n",
    "        line_digits = []  # Een nieuwe lijst voor de huidige regel\n",
    "        for word, digit in spelled_to_digit.items():\n",
    "            for match in re.finditer(r'{}'.format(word), line):\n",
    "                line_digits.append((spelled_to_digit[word], match.start()))  # Voeg tuple toe aan de lijst van de huidige regel\n",
    "        for index, char in enumerate(line):\n",
    "            if char.isdigit():\n",
    "                line_digits.append((char, index))  # Voeg tuple toe aan de lijst van de huidige regel\n",
    "        digit_positions.append(line_digits) # Voeg lijst met tuples toe aan de digit_position lijst\n",
    "        \n",
    "# Functie om het tweede element uit de tuple te halen\n",
    "def get_second_element(tuple):\n",
    "    return tuple[1]\n",
    "\n",
    "# Iterate through each list in digit_positions\n",
    "sumofnumbers2 = 0\n",
    "combined_numbers = []\n",
    "for line_digits in digit_positions:\n",
    "\n",
    "    # Find the tuples with the lowest and highest second values\n",
    "    lowest = min(line_digits, key=get_second_element)\n",
    "    highest = max(line_digits, key=get_second_element)\n",
    "\n",
    "    # Combine the first values of these tuples into a two-digit number\n",
    "    combined_number = int(lowest[0] + highest[0])\n",
    "    sumofnumbers2 += combined_number\n",
    "print (sumofnumbers2)"
   ]
  }
 ],
 "metadata": {
  "kernelspec": {
   "display_name": "Python 3",
   "language": "python",
   "name": "python3"
  },
  "language_info": {
   "codemirror_mode": {
    "name": "ipython",
    "version": 3
   },
   "file_extension": ".py",
   "mimetype": "text/x-python",
   "name": "python",
   "nbconvert_exporter": "python",
   "pygments_lexer": "ipython3",
   "version": "3.12.0"
  }
 },
 "nbformat": 4,
 "nbformat_minor": 2
}
